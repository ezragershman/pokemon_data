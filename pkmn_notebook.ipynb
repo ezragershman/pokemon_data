{
  "nbformat": 4,
  "nbformat_minor": 0,
  "metadata": {
    "colab": {
      "provenance": [],
      "authorship_tag": "ABX9TyNy9EKiB2LKPR0g2HaLVhnX",
      "include_colab_link": true
    },
    "kernelspec": {
      "name": "python3",
      "display_name": "Python 3"
    },
    "language_info": {
      "name": "python"
    }
  },
  "cells": [
    {
      "cell_type": "markdown",
      "metadata": {
        "id": "view-in-github",
        "colab_type": "text"
      },
      "source": [
        "<a href=\"https://colab.research.google.com/github/ezragershman/pokemon_data/blob/main/pkmn_notebook.ipynb\" target=\"_parent\"><img src=\"https://colab.research.google.com/assets/colab-badge.svg\" alt=\"Open In Colab\"/></a>"
      ]
    },
    {
      "cell_type": "code",
      "execution_count": 1,
      "metadata": {
        "id": "ixKRZ3qF5gf-",
        "colab": {
          "base_uri": "https://localhost:8080/"
        },
        "outputId": "79412c88-7ccf-4cba-8878-dabf3c43e1f9"
      },
      "outputs": [
        {
          "output_type": "stream",
          "name": "stdout",
          "text": [
            "sample_data\n",
            "Cloning into 'pokemon_data'...\n",
            "remote: Enumerating objects: 3, done.\u001b[K\n",
            "remote: Counting objects: 100% (3/3), done.\u001b[K\n",
            "remote: Total 3 (delta 0), reused 0 (delta 0), pack-reused 0 (from 0)\u001b[K\n",
            "Receiving objects: 100% (3/3), done.\n",
            "/content/pokemon_data\n",
            "/content/pokemon_data/README.md\n",
            "/content/pokemon_data/.git/HEAD\n",
            "/content/pokemon_data/.git/index\n",
            "/content/pokemon_data/.git/config\n",
            "/content/pokemon_data/.git/packed-refs\n",
            "/content/pokemon_data/.git/description\n",
            "/content/pokemon_data/.git/logs/HEAD\n",
            "/content/pokemon_data/.git/logs/refs/heads/main\n",
            "/content/pokemon_data/.git/logs/refs/remotes/origin/HEAD\n",
            "/content/pokemon_data/.git/hooks/fsmonitor-watchman.sample\n",
            "/content/pokemon_data/.git/hooks/update.sample\n",
            "/content/pokemon_data/.git/hooks/pre-merge-commit.sample\n",
            "/content/pokemon_data/.git/hooks/post-update.sample\n",
            "/content/pokemon_data/.git/hooks/prepare-commit-msg.sample\n",
            "/content/pokemon_data/.git/hooks/applypatch-msg.sample\n",
            "/content/pokemon_data/.git/hooks/pre-applypatch.sample\n",
            "/content/pokemon_data/.git/hooks/pre-push.sample\n",
            "/content/pokemon_data/.git/hooks/pre-rebase.sample\n",
            "/content/pokemon_data/.git/hooks/pre-commit.sample\n",
            "/content/pokemon_data/.git/hooks/pre-receive.sample\n",
            "/content/pokemon_data/.git/hooks/push-to-checkout.sample\n",
            "/content/pokemon_data/.git/hooks/commit-msg.sample\n",
            "/content/pokemon_data/.git/info/exclude\n",
            "/content/pokemon_data/.git/refs/heads/main\n",
            "/content/pokemon_data/.git/refs/remotes/origin/HEAD\n",
            "/content/pokemon_data/.git/objects/pack/pack-25afb48be25011c2611372677356f5899498ee51.idx\n",
            "/content/pokemon_data/.git/objects/pack/pack-25afb48be25011c2611372677356f5899498ee51.pack\n"
          ]
        }
      ],
      "source": [
        "import os\n",
        "!ls\n",
        "# Change to the cloned repo directory (optional)\n",
        "!git clone \"https://github.com/ezragershman/pokemon_data.git\"\n",
        "%cd '/content/pokemon_data'\n",
        "\n",
        "for dirname, _, filenames in os.walk('/content/pokemon_data'):\n",
        "    for filename in filenames:\n",
        "        print(os.path.join(dirname, filename))"
      ]
    },
    {
      "cell_type": "code",
      "source": [
        "!git pull"
      ],
      "metadata": {
        "id": "28HqSvQNAJHb"
      },
      "execution_count": null,
      "outputs": []
    },
    {
      "cell_type": "code",
      "source": [
        "%cd '/content/pokemon_data'\n",
        "from google.colab import userdata\n",
        "github_token = userdata.get('github_token')\n",
        "\n",
        "!git config --global user.email \"ezragersh@gmail.com\"\n",
        "!git config --global user.name \"ezragershman\"\n",
        "# Set up Git to use the token for authentication\n",
        "if github_token:\n",
        "    repo_url = f\"https://{github_token}@github.com/ezragershman/pokemon_data.git\"  # Replace 'YourGitHubUsername' and 'YourRepository' with your actual GitHub username and repo\n",
        "    !git remote set-url origin {repo_url}\n",
        "    !git add *\n",
        "    !git commit -m \";\"\n",
        "    !git push origin main\n",
        "else:\n",
        "    print(\"GitHub token is not available.\")"
      ],
      "metadata": {
        "id": "SkrLOgqRAJwN"
      },
      "execution_count": null,
      "outputs": []
    }
  ]
}